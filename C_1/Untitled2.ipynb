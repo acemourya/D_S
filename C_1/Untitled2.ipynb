{
 "cells": [
  {
   "cell_type": "code",
   "execution_count": 60,
   "metadata": {},
   "outputs": [],
   "source": [
    "import pandas as pd\n",
    "import numpy as np"
   ]
  },
  {
   "cell_type": "code",
   "execution_count": 61,
   "metadata": {},
   "outputs": [
    {
     "name": "stdout",
     "output_type": "stream",
     "text": [
      "46\n"
     ]
    }
   ],
   "source": [
    "a=[2,34,45,46]\n",
    "#for x in range(1,3):\n",
    "print(a[3])"
   ]
  },
  {
   "cell_type": "code",
   "execution_count": 201,
   "metadata": {},
   "outputs": [
    {
     "name": "stdout",
     "output_type": "stream",
     "text": [
      "   C_ID    Name Gender  B_Sal\n",
      "0     1     Anu      M   1000\n",
      "1     2    Monu      F  10000\n",
      "2     3  Anurag      M  15000\n",
      "3     4     Ace      F  20000\n"
     ]
    }
   ],
   "source": [
    "a=[1,2,3,4]\n",
    "b=[\"Anu\",\"Monu\",'Anurag','Ace']\n",
    "c=[\"M\",'F','M','F']\n",
    "d=[1000,10000,15000,20000]\n",
    "t={\"C_ID\":a,\"Name\":b,\"Gender\":c,\"B_Sal\":d}\n",
    "\n",
    "x=pd.DataFrame(t)\n",
    "print(x)"
   ]
  },
  {
   "cell_type": "code",
   "execution_count": 202,
   "metadata": {},
   "outputs": [
    {
     "name": "stdout",
     "output_type": "stream",
     "text": [
      "[[1 'Anu' 'M' 1000]\n",
      " [2 'Monu' 'F' 10000]\n",
      " [3 'Anurag' 'M' 15000]\n",
      " [4 'Ace' 'F' 20000]]\n"
     ]
    }
   ],
   "source": [
    "y=np.array(x)\n",
    "print(y)"
   ]
  },
  {
   "cell_type": "code",
   "execution_count": 203,
   "metadata": {},
   "outputs": [
    {
     "name": "stdout",
     "output_type": "stream",
     "text": [
      "0     1000\n",
      "1    10000\n",
      "2    15000\n",
      "3    20000\n",
      "Name: B_Sal, dtype: int64\n"
     ]
    }
   ],
   "source": [
    "#Select columm\n",
    "print(x['B_Sal'])"
   ]
  },
  {
   "cell_type": "code",
   "execution_count": 204,
   "metadata": {},
   "outputs": [
    {
     "name": "stdout",
     "output_type": "stream",
     "text": [
      "[ 1000 10000 15000 20000]\n"
     ]
    }
   ],
   "source": [
    "Sal=x['B_Sal'].values\n",
    "print(Sal)\n",
    "\n"
   ]
  },
  {
   "cell_type": "code",
   "execution_count": 205,
   "metadata": {},
   "outputs": [
    {
     "name": "stdout",
     "output_type": "stream",
     "text": [
      "[400.0, 4000.0, 6000.0, 8000.0]\n"
     ]
    }
   ],
   "source": [
    "#HRA\n",
    "HRA=[]\n",
    "for x in Sal:\n",
    "    HRA.append(x*.4)\n",
    "print(HRA)"
   ]
  },
  {
   "cell_type": "code",
   "execution_count": 206,
   "metadata": {},
   "outputs": [
    {
     "name": "stdout",
     "output_type": "stream",
     "text": [
      "[200.0, 2000.0, 3000.0, 4000.0]\n"
     ]
    }
   ],
   "source": [
    "# DA\n",
    "DA=[]\n",
    "for j in Sal:\n",
    "    DA.append(j*.2)\n",
    "print(DA)"
   ]
  },
  {
   "cell_type": "code",
   "execution_count": 207,
   "metadata": {},
   "outputs": [
    {
     "name": "stdout",
     "output_type": "stream",
     "text": [
      "[ 1600. 16000. 24000. 32000.]\n",
      "<class 'numpy.ndarray'>\n"
     ]
    }
   ],
   "source": [
    "#Monthly Sal\n",
    "\n",
    "for i in Sal:\n",
    "    M_Sal=Sal+HRA+DA\n",
    "print(M_Sal)\n",
    "print(type(M_Sal))"
   ]
  },
  {
   "cell_type": "markdown",
   "metadata": {},
   "source": []
  },
  {
   "cell_type": "code",
   "execution_count": 208,
   "metadata": {
    "scrolled": true
   },
   "outputs": [
    {
     "name": "stdout",
     "output_type": "stream",
     "text": [
      "[ 19200. 192000. 288000. 384000.]\n"
     ]
    }
   ],
   "source": [
    "\n",
    "for i in range(1):\n",
    "    Y_Sal=M_Sal*12\n",
    "    print(Y_Sal)\n"
   ]
  },
  {
   "cell_type": "code",
   "execution_count": 209,
   "metadata": {},
   "outputs": [
    {
     "name": "stdout",
     "output_type": "stream",
     "text": [
      "[3840.0, 96000.0, 0.0, 115200.0]\n"
     ]
    }
   ],
   "source": [
    "#Tax \n",
    "Tax=[]\n",
    "for i in Y_Sal:\n",
    "    \n",
    "        if i<120000:\n",
    "            Tax.append(i*.2)\n",
    "        \n",
    "            \n",
    "        elif  i>=120000  and i <200000:\n",
    "            Tax.append(i*.5)\n",
    "            \n",
    "           \n",
    "        elif 200000 <= i<=300000:\n",
    "            Tax.append(i*.0)\n",
    "        \n",
    "            \n",
    "        else :\n",
    "            Tax.append(i*.3)\n",
    "print(Tax)\n",
    "            "
   ]
  },
  {
   "cell_type": "markdown",
   "metadata": {},
   "source": []
  },
  {
   "cell_type": "code",
   "execution_count": 210,
   "metadata": {},
   "outputs": [
    {
     "name": "stdout",
     "output_type": "stream",
     "text": [
      "   C_ID    Name Gender  B_Sal     HRA      DA    M_Sal     Y_Sal       Tax\n",
      "0     1     Anu      M   1000   400.0   200.0   1600.0   19200.0    3840.0\n",
      "1     2    Monu      F  10000  4000.0  2000.0  16000.0  192000.0   96000.0\n",
      "2     3  Anurag      M  15000  6000.0  3000.0  24000.0  288000.0       0.0\n",
      "3     4     Ace      F  20000  8000.0  4000.0  32000.0  384000.0  115200.0\n"
     ]
    }
   ],
   "source": [
    "# DataFrame_name[NEW_Col]=List_name / DataFrame_Name.insert(loc,'cloumn',value,allow_dublicate=False)t['HRA','DA','M_Sal','Y_SAl','Tax']=HRA, DA ,M_Sal , Y_Sal,Tax\n",
    "t['HRA']=HRA\n",
    "t['DA']=DA\n",
    "t['M_Sal']=M_Sal\n",
    "t['Y_Sal']=Y_Sal\n",
    "t['Tax']=Tax\n",
    "x=pd.DataFrame(t)\n",
    "print(x)"
   ]
  },
  {
   "cell_type": "code",
   "execution_count": 211,
   "metadata": {},
   "outputs": [
    {
     "data": {
      "text/plain": [
       "<matplotlib.axes._subplots.AxesSubplot at 0x1b273288470>"
      ]
     },
     "execution_count": 211,
     "metadata": {},
     "output_type": "execute_result"
    },
    {
     "data": {
      "image/png": "[encoded data removed]",
      "text/plain": [
       "<Figure size 432x288 with 1 Axes>"
      ]
     },
     "metadata": {
      "needs_background": "light"
     },
     "output_type": "display_data"
    }
   ],
   "source": [
    "%matplotlib inline\n",
    "x.plot.bar(x='Y_Sal',y='Tax')"
   ]
  },
  {
   "cell_type": "code",
   "execution_count": null,
   "metadata": {},
   "outputs": [],
   "source": []
  },
  {
   "cell_type": "code",
   "execution_count": null,
   "metadata": {},
   "outputs": [],
   "source": []
  }
 ],
 "metadata": {
  "kernelspec": {
   "display_name": "Python 3",
   "language": "python",
   "name": "python3"
  },
  "language_info": {
   "codemirror_mode": {
    "name": "ipython",
    "version": 3
   },
   "file_extension": ".py",
   "mimetype": "text/x-python",
   "name": "python",
   "nbconvert_exporter": "python",
   "pygments_lexer": "ipython3",
   "version": "3.7.3"
  }
 },
 "nbformat": 4,
 "nbformat_minor": 2
}
